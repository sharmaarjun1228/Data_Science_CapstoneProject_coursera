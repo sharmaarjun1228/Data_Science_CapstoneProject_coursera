{
 "cells": [
  {
   "cell_type": "code",
   "execution_count": 137,
   "id": "e92a7b95",
   "metadata": {},
   "outputs": [
    {
     "name": "stdout",
     "output_type": "stream",
     "text": [
      "[]\n"
     ]
    }
   ],
   "source": [
    "text1 = []\n",
    "\n",
    "\n",
    "\n",
    "for x in text:\n",
    "    while text != '0':\n",
    "        text = input('Enter a string (type \"quit\" to exit): ')\n",
    "        text1.append(text)\n",
    "        print('You entered:', text)\n",
    "\n",
    "    print(text1)\n",
    "\n",
    "     "
   ]
  },
  {
   "cell_type": "code",
   "execution_count": 146,
   "id": "60eb83c7",
   "metadata": {},
   "outputs": [
    {
     "name": "stdout",
     "output_type": "stream",
     "text": [
      "Enter the number of elements: 2\n",
      "Enter element 1: 14\n",
      "Enter element 2: 15\n",
      "Old List: [14, 15]\n",
      "Enter the number of  new elements: 3\n",
      "Enter element 1: 12\n",
      "Enter element 2: 14\n",
      "Enter element 3: 15\n",
      "Updated List: [12, 14, 15]\n"
     ]
    }
   ],
   "source": [
    "# Initialize an empty list\n",
    "my_list = []\n",
    "my_list2 = []\n",
    "# Get the number of elements from the user\n",
    "n = int(input(\"Enter the number of elements: \"))\n",
    "\n",
    "# Input the elements one by one\n",
    "for i in range(n):\n",
    "    ele = int(input(f\"Enter element {i + 1}: \"))\n",
    "    my_list.append(ele)\n",
    "\n",
    "# Display the old list\n",
    "print(\"Old List:\", my_list)\n",
    "\n",
    "# Get the number of elements from the user\n",
    "y = int(input(\"Enter the number of  new elements: \"))\n",
    "\n",
    "for j in range(y):\n",
    "    element = int(input(f\"Enter element {j + 1}: \"))\n",
    "    my_list2.append(element)\n",
    "\n",
    "# Append a new element\n",
    "\n",
    "my_list.append(element)\n",
    "\n",
    "# Display the updated list\n",
    "print(\"Updated List:\", my_list2)\n",
    "\n",
    "\n"
   ]
  },
  {
   "cell_type": "code",
   "execution_count": 147,
   "id": "4439bbbb",
   "metadata": {},
   "outputs": [
    {
     "name": "stdout",
     "output_type": "stream",
     "text": [
      "[14, 15, 15, 12, 14, 15]\n"
     ]
    }
   ],
   "source": [
    "print(my_list + my_list2)"
   ]
  },
  {
   "cell_type": "code",
   "execution_count": 3,
   "id": "0f2e0c6e",
   "metadata": {},
   "outputs": [
    {
     "name": "stdout",
     "output_type": "stream",
     "text": [
      "123\n"
     ]
    },
    {
     "ename": "TypeError",
     "evalue": "object of type 'int' has no len()",
     "output_type": "error",
     "traceback": [
      "\u001b[1;31m---------------------------------------------------------------------------\u001b[0m",
      "\u001b[1;31mTypeError\u001b[0m                                 Traceback (most recent call last)",
      "Cell \u001b[1;32mIn[3], line 10\u001b[0m\n\u001b[0;32m      7\u001b[0m i \u001b[38;5;241m=\u001b[39m \u001b[38;5;241m0\u001b[39m\n\u001b[0;32m      9\u001b[0m \u001b[38;5;66;03m# While loop to iterate over each number in the list\u001b[39;00m\n\u001b[1;32m---> 10\u001b[0m \u001b[38;5;28;01mwhile\u001b[39;00m i \u001b[38;5;241m<\u001b[39m \u001b[38;5;28;43mlen\u001b[39;49m\u001b[43m(\u001b[49m\u001b[43mnumbers\u001b[49m\u001b[43m)\u001b[49m:\n\u001b[0;32m     11\u001b[0m     num \u001b[38;5;241m=\u001b[39m numbers[i]\n\u001b[0;32m     12\u001b[0m     i \u001b[38;5;241m+\u001b[39m\u001b[38;5;241m=\u001b[39m \u001b[38;5;241m1\u001b[39m\n",
      "\u001b[1;31mTypeError\u001b[0m: object of type 'int' has no len()"
     ]
    }
   ],
   "source": [
    "\n",
    "numbers = int(input())\n",
    "\n",
    "# Initialize variable to hold largest even number found\n",
    "largest_even = None\n",
    "\n",
    "# Initialize counter variable for while loop\n",
    "i = 0\n",
    "\n",
    "# While loop to iterate over each number in the list\n",
    "while i < len(numbers):\n",
    "    num = numbers[i]\n",
    "    i += 1\n",
    "\n",
    "    # Check if the number is even\n",
    "    if num % 2 == 0:\n",
    "        # If largest_even is None or the current number is greater than the current largest_even, update largest_even\n",
    "        if largest_even is None or num > largest_even:\n",
    "            largest_even = num\n",
    "\n",
    "# Output the largest even number found\n",
    "if largest_even is not None:\n",
    "    print(f\"The largest even number in the list is {largest_even}.\")\n",
    "else:\n",
    "    print(\"There are no even numbers in the list.\")\n",
    "     "
   ]
  },
  {
   "cell_type": "code",
   "execution_count": 29,
   "id": "d89df831",
   "metadata": {},
   "outputs": [
    {
     "ename": "SyntaxError",
     "evalue": "invalid syntax (563633122.py, line 14)",
     "output_type": "error",
     "traceback": [
      "\u001b[1;36m  Cell \u001b[1;32mIn[29], line 14\u001b[1;36m\u001b[0m\n\u001b[1;33m    print(map((x,j for x in answer_key[i] ))\u001b[0m\n\u001b[1;37m                   ^\u001b[0m\n\u001b[1;31mSyntaxError\u001b[0m\u001b[1;31m:\u001b[0m invalid syntax\n"
     ]
    }
   ],
   "source": [
    "\n",
    "# Answer key for each question\n",
    "answer_key = [\"A\", \"B\", \"C\", \"D\", \"E\"]\n",
    "\n",
    "# Student's answer sheet\n",
    "student_answers = [\"A\", \"B\", \"A\", \"D\", \"A\",\"E\"]\n",
    "\n",
    "# List to store marks for each question\n",
    "marks = 0\n",
    "\n",
    "# For loop to grade each question\n",
    "for i in range(len(answer_key)):\n",
    "    if student_answers[i] == answer_key[i]:\n",
    "        marks+=1\n",
    "        print(map((x,j for x in answer_key[i] ))\n",
    "        \n",
    "    else:\n",
    "        marks+=0\n",
    "\n",
    "\n",
    "# Print results\n",
    "print(\"Total marks:\", marks)"
   ]
  },
  {
   "cell_type": "code",
   "execution_count": 59,
   "id": "bae8d8b5",
   "metadata": {},
   "outputs": [
    {
     "name": "stdout",
     "output_type": "stream",
     "text": [
      "[] [] [] \n",
      "[] [] [] [] [] \n"
     ]
    }
   ],
   "source": [
    "for i in range(1, 4, 2):\n",
    "    for j in range(i+2):\n",
    "        x=[]\n",
    "        print([ x for i in range(1, 4, 2) if i%2==0], end=\" \")\n",
    "    print()\n"
   ]
  },
  {
   "cell_type": "code",
   "execution_count": 74,
   "id": "0fbb6cc8",
   "metadata": {},
   "outputs": [
    {
     "name": "stdout",
     "output_type": "stream",
     "text": [
      "1 is odd\n",
      "2 is even\n",
      "3 is odd\n",
      "4 is even\n",
      "5 is odd\n",
      "6 is even\n",
      "7 is odd\n",
      "8 is even\n",
      "9 is odd\n",
      "10 is even\n"
     ]
    },
    {
     "ename": "TypeError",
     "evalue": "'NoneType' object is not iterable",
     "output_type": "error",
     "traceback": [
      "\u001b[1;31m---------------------------------------------------------------------------\u001b[0m",
      "\u001b[1;31mTypeError\u001b[0m                                 Traceback (most recent call last)",
      "Cell \u001b[1;32mIn[74], line 11\u001b[0m\n\u001b[0;32m      8\u001b[0m       \u001b[38;5;28;01melse\u001b[39;00m:\n\u001b[0;32m      9\u001b[0m         \u001b[38;5;28mprint\u001b[39m(num, \u001b[38;5;124m\"\u001b[39m\u001b[38;5;124mis odd\u001b[39m\u001b[38;5;124m\"\u001b[39m)\n\u001b[1;32m---> 11\u001b[0m \u001b[38;5;28mprint\u001b[39m(x \u001b[38;5;28;01mfor\u001b[39;00m x \u001b[38;5;129;01min\u001b[39;00m chex() \u001b[38;5;28;01mif\u001b[39;00m x\u001b[38;5;241m%\u001b[39m\u001b[38;5;241m2\u001b[39m\u001b[38;5;241m==\u001b[39m\u001b[38;5;241m0\u001b[39m)\n",
      "\u001b[1;31mTypeError\u001b[0m: 'NoneType' object is not iterable"
     ]
    }
   ],
   "source": [
    "numbers = [1, 2, 3, 4, 5, 6, 7, 8, 9, 10]\n",
    "\n",
    "\n",
    "def chex():\n",
    "    for num in numbers:\n",
    "      if num % 2 == 0:\n",
    "        print(num, \"is even\")\n",
    "      else:\n",
    "        print(num, \"is odd\")\n",
    "        \n",
    "print(x for x in chex() if x%2==0)"
   ]
  },
  {
   "cell_type": "code",
   "execution_count": 55,
   "id": "436823e9",
   "metadata": {},
   "outputs": [
    {
     "name": "stdout",
     "output_type": "stream",
     "text": [
      " ... ---    ... ---    ... ---    ... ---   ----1---\n",
      " ... ---    ... ---    ... ---   ----1-------1-------1---\n",
      " ... ---    ... ---   ----1-------1-------1-------1-------1---\n",
      " ... ---   ----1-------1-------1-------1-------1-------1-------1---\n",
      "----1-------1-------1-------1-------1-------1-------1-------1-------1---\n"
     ]
    }
   ],
   "source": [
    "n=5\n",
    "\n",
    "for i in range(n):\n",
    "    for j in range(n-i-1):\n",
    "        print(\" ... ---   \",end=\"\")\n",
    "    for k in range(2*i+1):\n",
    "        print(\"----1---\",end=\"\")\n",
    "    print()"
   ]
  },
  {
   "cell_type": "code",
   "execution_count": 56,
   "id": "79cec5f5",
   "metadata": {},
   "outputs": [
    {
     "name": "stdout",
     "output_type": "stream",
     "text": [
      "{'red': 2, 'blue': 3, 'green': 4, 'yellow': 1}\n"
     ]
    }
   ],
   "source": [
    "my_dict = {\"red\": 2, \"blue\": 3, \"green\": 4}\n",
    "my_dict[\"yellow\"] = 1\n",
    "print(my_dict)"
   ]
  },
  {
   "cell_type": "code",
   "execution_count": 58,
   "id": "5fb9fd79",
   "metadata": {},
   "outputs": [],
   "source": [
    "x = 10\n",
    "if x < 5:\n",
    "    print(\"x is less than 5\")\n",
    "elif x > 15:\n",
    "    print(\"x is greater than 15\")"
   ]
  },
  {
   "cell_type": "code",
   "execution_count": 93,
   "id": "45b4eccf",
   "metadata": {},
   "outputs": [
    {
     "name": "stdout",
     "output_type": "stream",
     "text": [
      "[0, 0, 0]\n",
      "[0, 0, 1]\n",
      "[0, 0, 2]\n",
      "[0, 0, 3]\n",
      "[0, 1, 0]\n",
      "[0, 1, 1]\n",
      "[0, 1, 2]\n",
      "[0, 1, 3]\n",
      "[0, 2, 0]\n",
      "[0, 2, 1]\n",
      "[0, 2, 2]\n",
      "[0, 2, 3]\n",
      "[1, 0, 0]\n",
      "[1, 0, 1]\n",
      "[1, 0, 2]\n",
      "[1, 0, 3]\n",
      "[1, 1, 0]\n",
      "[1, 1, 1]\n",
      "[1, 1, 2]\n",
      "[1, 1, 3]\n",
      "[1, 2, 0]\n",
      "[1, 2, 1]\n",
      "[1, 2, 2]\n",
      "[1, 2, 3]\n",
      "[2, 0, 0]\n",
      "[2, 0, 1]\n",
      "[2, 0, 2]\n",
      "[2, 0, 3]\n",
      "[2, 1, 0]\n",
      "[2, 1, 1]\n",
      "[2, 1, 2]\n",
      "[2, 1, 3]\n",
      "[2, 2, 0]\n",
      "[2, 2, 1]\n",
      "[2, 2, 2]\n",
      "[2, 2, 3]\n"
     ]
    }
   ],
   "source": [
    "for i in range(3):\n",
    "   for j in range(3):\n",
    "    for k in range(4):\n",
    "        \n",
    "        list1=([i, j,k])\n",
    "        \n",
    "        print(list1)\n",
    "        "
   ]
  },
  {
   "cell_type": "code",
   "execution_count": 60,
   "id": "4f68b330",
   "metadata": {},
   "outputs": [
    {
     "name": "stdout",
     "output_type": "stream",
     "text": [
      "dog\n"
     ]
    }
   ],
   "source": [
    "my_list = ['cat', 'dog', 'bear', \"Dog\"]\n",
    "print(max(my_list))"
   ]
  },
  {
   "cell_type": "code",
   "execution_count": 61,
   "id": "26f8bed5",
   "metadata": {},
   "outputs": [
    {
     "name": "stdout",
     "output_type": "stream",
     "text": [
      "[2, 4, 6, 8, 10]\n"
     ]
    }
   ],
   "source": [
    "numbers = [1, 2, 3, 4, 5]\n",
    "new_numbers = []\n",
    "for num in numbers:\n",
    "    new_numbers.append(num * 2)\n",
    "print(new_numbers)"
   ]
  },
  {
   "cell_type": "code",
   "execution_count": 125,
   "id": "f183e1de",
   "metadata": {},
   "outputs": [
    {
     "name": "stdout",
     "output_type": "stream",
     "text": [
      "Enter a string (type \"quit\" to exit): jaya\n"
     ]
    },
    {
     "ename": "KeyboardInterrupt",
     "evalue": "",
     "output_type": "error",
     "traceback": [
      "\u001b[1;31m---------------------------------------------------------------------------\u001b[0m",
      "\u001b[1;31mKeyboardInterrupt\u001b[0m                         Traceback (most recent call last)",
      "Cell \u001b[1;32mIn[125], line 6\u001b[0m\n\u001b[0;32m      4\u001b[0m \u001b[38;5;28;01mfor\u001b[39;00m word \u001b[38;5;129;01min\u001b[39;00m words:\n\u001b[0;32m      5\u001b[0m     \u001b[38;5;28;01mwhile\u001b[39;00m aka \u001b[38;5;241m!=\u001b[39m \u001b[38;5;124m'\u001b[39m\u001b[38;5;124m0\u001b[39m\u001b[38;5;124m'\u001b[39m:\n\u001b[1;32m----> 6\u001b[0m         \u001b[43mwords\u001b[49m\u001b[38;5;241;43m.\u001b[39;49m\u001b[43mappend\u001b[49m\u001b[43m(\u001b[49m\u001b[43maka\u001b[49m\u001b[43m)\u001b[49m\n\u001b[0;32m      7\u001b[0m \u001b[38;5;28mprint\u001b[39m(words)\n\u001b[0;32m      8\u001b[0m \u001b[38;5;28;01mbreak\u001b[39;00m\n",
      "\u001b[1;31mKeyboardInterrupt\u001b[0m: "
     ]
    }
   ],
   "source": [
    "words = [\"apple\", \"banana\", \"cherry\", \"date\", \"elderberry\"]\n",
    "aka = input('Enter a string (type \"quit\" to exit): ')\n",
    "\n",
    "for word in words:\n",
    "    while aka != '0':\n",
    "        words.append(aka)\n",
    "print(words)\n",
    "break"
   ]
  },
  {
   "cell_type": "code",
   "execution_count": 95,
   "id": "7ccdbd58",
   "metadata": {},
   "outputs": [
    {
     "name": "stdout",
     "output_type": "stream",
     "text": [
      "2\n",
      "3\n",
      "3\n",
      "4\n"
     ]
    }
   ],
   "source": [
    "for i in range(2):\n",
    "    for j in range(2, 4):\n",
    "        print(i+j)"
   ]
  },
  {
   "cell_type": "code",
   "execution_count": 67,
   "id": "4edca854",
   "metadata": {},
   "outputs": [
    {
     "data": {
      "text/plain": [
       "0"
      ]
     },
     "execution_count": 67,
     "metadata": {},
     "output_type": "execute_result"
    }
   ],
   "source": [
    "sentence=(\"Data Science\")\n",
    "sentence.count('data')"
   ]
  },
  {
   "cell_type": "code",
   "execution_count": 68,
   "id": "40e098a3",
   "metadata": {},
   "outputs": [
    {
     "name": "stdout",
     "output_type": "stream",
     "text": [
      "1\n",
      "2\n",
      "3\n",
      "4\n"
     ]
    }
   ],
   "source": [
    "my_tuple = (1, 2, 3, 4)\n",
    "for i in range(len(my_tuple)):\n",
    "    print(my_tuple[i])"
   ]
  },
  {
   "cell_type": "code",
   "execution_count": 69,
   "id": "bf8fbff1",
   "metadata": {},
   "outputs": [
    {
     "name": "stdout",
     "output_type": "stream",
     "text": [
      "[0, 1, 2]\n"
     ]
    }
   ],
   "source": [
    "print(list(range(3)))"
   ]
  },
  {
   "cell_type": "code",
   "execution_count": 70,
   "id": "5e00e892",
   "metadata": {},
   "outputs": [
    {
     "name": "stdout",
     "output_type": "stream",
     "text": [
      "{6}\n"
     ]
    }
   ],
   "source": [
    "set_a = {1,2,6}\n",
    "set_b = {1,2,8}\n",
    "print(set_a - set_b)"
   ]
  },
  {
   "cell_type": "code",
   "execution_count": 72,
   "id": "a1a354d1",
   "metadata": {},
   "outputs": [
    {
     "data": {
      "text/plain": [
       "165"
      ]
     },
     "execution_count": 72,
     "metadata": {},
     "output_type": "execute_result"
    }
   ],
   "source": [
    "5+ 10* (10+6)"
   ]
  },
  {
   "cell_type": "code",
   "execution_count": 75,
   "id": "07ed0705",
   "metadata": {},
   "outputs": [
    {
     "name": "stdout",
     "output_type": "stream",
     "text": [
      "1.0\n"
     ]
    }
   ],
   "source": [
    "x=1\n",
    "\n",
    "y=1\n",
    "\n",
    "a = (x/(x+y)*x)*(x+y)\n",
    "\n",
    "print(a)"
   ]
  },
  {
   "cell_type": "code",
   "execution_count": 76,
   "id": "bf531875",
   "metadata": {},
   "outputs": [
    {
     "name": "stdout",
     "output_type": "stream",
     "text": [
      "[1, 3, 5, 7, 9]\n"
     ]
    }
   ],
   "source": [
    "print(list(range(1, 10, 2)))"
   ]
  },
  {
   "cell_type": "code",
   "execution_count": 77,
   "id": "0b7c9f90",
   "metadata": {},
   "outputs": [
    {
     "name": "stdout",
     "output_type": "stream",
     "text": [
      "[2, 3]\n"
     ]
    }
   ],
   "source": [
    "my_list = [1, 2, 3, 4]\n",
    "a=[]\n",
    "for i in my_list:\n",
    "    if i == 1:\n",
    "      continue\n",
    "    if i == 4:\n",
    "      break\n",
    "    a.append(i)\n",
    "print(a)"
   ]
  },
  {
   "cell_type": "code",
   "execution_count": null,
   "id": "7503383f",
   "metadata": {},
   "outputs": [],
   "source": []
  }
 ],
 "metadata": {
  "kernelspec": {
   "display_name": "Python 3 (ipykernel)",
   "language": "python",
   "name": "python3"
  },
  "language_info": {
   "codemirror_mode": {
    "name": "ipython",
    "version": 3
   },
   "file_extension": ".py",
   "mimetype": "text/x-python",
   "name": "python",
   "nbconvert_exporter": "python",
   "pygments_lexer": "ipython3",
   "version": "3.10.9"
  }
 },
 "nbformat": 4,
 "nbformat_minor": 5
}
